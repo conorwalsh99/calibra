{
 "cells": [
  {
   "cell_type": "code",
   "execution_count": 1,
   "metadata": {},
   "outputs": [],
   "source": [
    "import random \n",
    "import numpy as np\n"
   ]
  },
  {
   "cell_type": "code",
   "execution_count": 59,
   "metadata": {},
   "outputs": [],
   "source": [
    "y_pred = []\n",
    "for i in range(10):\n",
    "    a = round(random.random(), 3)    \n",
    "    b = round(random.random() * (1-a), 3)\n",
    "    c = round((1-a) - b, 3)\n",
    "\n",
    "    prediction = [a, b, c]\n",
    "\n",
    "    y_pred.append(prediction)\n",
    "\n",
    "y_pred = np.asarray(y_pred)"
   ]
  },
  {
   "cell_type": "code",
   "execution_count": 60,
   "metadata": {},
   "outputs": [
    {
     "data": {
      "text/plain": [
       "array([[0.821, 0.133, 0.046],\n",
       "       [0.712, 0.018, 0.27 ],\n",
       "       [0.417, 0.258, 0.325],\n",
       "       [0.867, 0.039, 0.094],\n",
       "       [0.952, 0.018, 0.03 ],\n",
       "       [0.484, 0.063, 0.453],\n",
       "       [0.378, 0.455, 0.167],\n",
       "       [0.486, 0.344, 0.17 ],\n",
       "       [0.18 , 0.244, 0.576],\n",
       "       [0.169, 0.171, 0.66 ]])"
      ]
     },
     "execution_count": 60,
     "metadata": {},
     "output_type": "execute_result"
    }
   ],
   "source": [
    "y_pred"
   ]
  },
  {
   "cell_type": "code",
   "execution_count": 63,
   "metadata": {},
   "outputs": [],
   "source": [
    "y_true = [random.randint(0,2) for i in range(10)]\n"
   ]
  },
  {
   "cell_type": "code",
   "execution_count": 64,
   "metadata": {},
   "outputs": [
    {
     "data": {
      "text/plain": [
       "[0, 2, 2, 1, 1, 0, 2, 1, 1, 0]"
      ]
     },
     "execution_count": 64,
     "metadata": {},
     "output_type": "execute_result"
    }
   ],
   "source": [
    "y_true"
   ]
  },
  {
   "cell_type": "code",
   "execution_count": 10,
   "metadata": {},
   "outputs": [
    {
     "name": "stdout",
     "output_type": "stream",
     "text": [
      "[0.7889606290765139, 0.3309448196817737, 0.0675349202662402, 0.5540114890718283, 0.4937131190596522, 0.7643611379986515, 0.23180775544933974, 0.7201001809894679, 0.4668116477613229, 0.7480345884543778]\n",
      "[1, 0, 1, 0, 0, 1, 1, 0, 1, 0]\n"
     ]
    }
   ],
   "source": [
    "print(y_pred)\n",
    "print(y_true)"
   ]
  }
 ],
 "metadata": {
  "kernelspec": {
   "display_name": "Python 3",
   "language": "python",
   "name": "python3"
  },
  "language_info": {
   "codemirror_mode": {
    "name": "ipython",
    "version": 3
   },
   "file_extension": ".py",
   "mimetype": "text/x-python",
   "name": "python",
   "nbconvert_exporter": "python",
   "pygments_lexer": "ipython3",
   "version": "3.10.0"
  }
 },
 "nbformat": 4,
 "nbformat_minor": 2
}
